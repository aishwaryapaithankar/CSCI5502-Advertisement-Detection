{
  "cells": [
    {
      "cell_type": "code",
      "execution_count": null,
      "id": "KhAB_Gv46rHy",
      "metadata": {
        "id": "KhAB_Gv46rHy"
      },
      "outputs": [],
      "source": [
        "from google.colab import drive\n",
        "drive.mount('/content/drive')\n",
        "\n",
        "!unzip \"drive/My Drive/train.zip\"\n",
        "!unzip \"drive/My Drive/val.zip\""
      ]
    },
    {
      "cell_type": "code",
      "execution_count": 3,
      "id": "515ad077",
      "metadata": {
        "id": "515ad077"
      },
      "outputs": [],
      "source": [
        "import keras,os\n",
        "from keras.preprocessing.image import ImageDataGenerator\n",
        "from keras.models import Sequential\n",
        "import numpy as np\n",
        "\n",
        "# base_dir = '/root/Project'\n",
        "\n",
        "# train_dir = os.path.join(base_dir, 'Ktrain')\n",
        "# validation_dir = os.path.join(base_dir, 'Kval')\n",
        "# test_dir = os.path.join(base_dir, 'Ktest')\n",
        "\n",
        "train_dir = 'train'\n",
        "validation_dir = 'val'\n",
        "test_dir = 'test'\n",
        "\n",
        "# Directory with our training ad pictures\n",
        "train_ads_dir = os.path.join(train_dir, 'pos')\n",
        "\n",
        "# Directory with our training dog pictures\n",
        "train_noads_dir = os.path.join(train_dir, 'neg')\n",
        "\n",
        "# Directory with our validation ad pictures\n",
        "validation_ads_dir = os.path.join(validation_dir, 'pos')\n",
        "\n",
        "# Directory with our validation dog pictures\n",
        "validation_noads_dir = os.path.join(validation_dir, 'neg')\n"
      ]
    },
    {
      "cell_type": "code",
      "execution_count": 4,
      "id": "def64ee0",
      "metadata": {
        "id": "def64ee0"
      },
      "outputs": [],
      "source": [
        "# Add our data-augmentation parameters to ImageDataGenerator\n",
        "train_datagen = ImageDataGenerator(rescale = 1./255, shear_range = 0.2, zoom_range = 0.2, horizontal_flip = True)\n",
        "\n",
        "# Note that the validation data should not be augmented!\n",
        "test_datagen = ImageDataGenerator( rescale = 1.0/255. )"
      ]
    },
    {
      "cell_type": "code",
      "execution_count": 5,
      "id": "4e052df7",
      "metadata": {
        "colab": {
          "base_uri": "https://localhost:8080/"
        },
        "id": "4e052df7",
        "outputId": "56a12315-fbb8-4c14-f8a9-4354c263507d"
      },
      "outputs": [
        {
          "name": "stdout",
          "output_type": "stream",
          "text": [
            "Found 47057 images belonging to 2 classes.\n",
            "Found 15685 images belonging to 2 classes.\n"
          ]
        }
      ],
      "source": [
        "# Flow training images in batches of 20 using train_datagen generator\n",
        "train_generator = train_datagen.flow_from_directory(train_dir, batch_size = 20, class_mode = 'binary', target_size = (300, 300))\n",
        "\n",
        "# Flow validation images in batches of 20 using test_datagen generator\n",
        "validation_generator = test_datagen.flow_from_directory( validation_dir,  batch_size = 20, class_mode = 'binary', target_size = (300, 300))"
      ]
    },
    {
      "cell_type": "code",
      "execution_count": 6,
      "id": "623d4637",
      "metadata": {
        "colab": {
          "base_uri": "https://localhost:8080/"
        },
        "id": "623d4637",
        "outputId": "7cc4e950-9649-44b0-c70a-26a9c0b9e385"
      },
      "outputs": [
        {
          "name": "stdout",
          "output_type": "stream",
          "text": [
            "Downloading data from https://storage.googleapis.com/tensorflow/keras-applications/vgg16/vgg16_weights_tf_dim_ordering_tf_kernels_notop.h5\n",
            "58889256/58889256 [==============================] - 4s 0us/step\n"
          ]
        }
      ],
      "source": [
        "from keras.optimizers import Adam\n",
        "from keras.layers import Dense, Conv2D, MaxPool2D , Flatten , Dropout\n",
        "from keras.applications.vgg16 import VGG16\n",
        "from keras.metrics import TruePositives, TrueNegatives, FalseNegatives, FalsePositives,Recall , Precision, BinaryAccuracy\n",
        "\n",
        "base_model = VGG16(input_shape = (300, 300, 3), # Shape of our images\n",
        "include_top = False, # Leave out the last fully connected layer\n",
        "weights = 'imagenet')\n",
        "\n",
        "for layer in base_model.layers:\n",
        "    layer.trainable = False\n",
        "    \n",
        "# Flatten the output layer to 1 dimension\n",
        "x = Flatten()(base_model.output)\n",
        "\n",
        "# Add a fully connected layer with 512 hidden units and ReLU activation\n",
        "x = Dense(512, activation='relu')(x)\n",
        "\n",
        "# Add a dropout rate of 0.5\n",
        "x = Dropout(0.5)(x)\n",
        "\n",
        "# Add a final sigmoid layer with 1 node for classification output\n",
        "x = Dense(1, activation='sigmoid')(x)\n",
        "\n",
        "model = keras.models.Model(base_model.input, x)\n",
        "\n",
        "model.compile(optimizer = keras.optimizers.Adam(learning_rate=0.0001), loss = 'binary_crossentropy',metrics = [BinaryAccuracy(),\n",
        "        TruePositives(),\n",
        "        TrueNegatives(),\n",
        "        FalsePositives(),\n",
        "        FalseNegatives(),\n",
        "        Precision(),\n",
        "        Recall()])"
      ]
    },
    {
      "cell_type": "code",
      "execution_count": 7,
      "id": "532a913d",
      "metadata": {
        "colab": {
          "base_uri": "https://localhost:8080/"
        },
        "id": "532a913d",
        "outputId": "d7c510d9-aea9-4e94-8281-a29c391a565f"
      },
      "outputs": [
        {
          "name": "stdout",
          "output_type": "stream",
          "text": [
            "Epoch 1/10\n",
            "100/100 [==============================] - ETA: 0s - loss: 0.4227 - binary_accuracy: 0.8305 - true_positives: 1577.0000 - true_negatives: 84.0000 - false_positives: 259.0000 - false_negatives: 80.0000 - precision: 0.8589 - recall: 0.9517"
          ]
        },
        {
          "name": "stderr",
          "output_type": "stream",
          "text": [
            "/usr/local/lib/python3.8/dist-packages/PIL/Image.py:2797: DecompressionBombWarning: Image size (141750000 pixels) exceeds limit of 89478485 pixels, could be decompression bomb DOS attack.\n",
            "  warnings.warn(\n"
          ]
        },
        {
          "name": "stdout",
          "output_type": "stream",
          "text": [
            "\b\b\b\b\b\b\b\b\b\b\b\b\b\b\b\b\b\b\b\b\b\b\b\b\b\b\b\b\b\b\b\b\b\b\b\b\b\b\b\b\b\b\b\b\b\b\b\b\b\b\b\b\b\b\b\b\b\b\b\b\b\b\b\b\b\b\b\b\b\b\b\b\b\b\b\b\b\b\b\b\b\b\b\b\b\b\b\b\b\b\b\b\b\b\b\b\b\b\b\b\b\b\b\b\b\b\b\b\b\b\b\b\b\b\b\b\b\b\b\b\b\b\b\b\b\b\b\b\b\b\b\b\b\b\b\b\b\b\b\b\b\b\b\b\b\b\b\b\b\b\b\b\b\b\b\b\b\b\b\b\b\b\b\b\b\b\b\b\b\b\b\b\b\b\b\b\b\b\b\b\b\b\b\b\b\b\b\b\b\b\b\b\b\b\b\b\b\b\b\b\b\b\b\b\b\b\b\b\b\b\b\b\b\b\b\b\b\b\b\b\b\b\b\b\b\b\b\b\b\b\b\b\b\b\b\b\b\r100/100 [==============================] - 456s 4s/step - loss: 0.4227 - binary_accuracy: 0.8305 - true_positives: 1577.0000 - true_negatives: 84.0000 - false_positives: 259.0000 - false_negatives: 80.0000 - precision: 0.8589 - recall: 0.9517 - val_loss: 0.3480 - val_binary_accuracy: 0.8583 - val_true_positives: 12813.0000 - val_true_negatives: 649.0000 - val_false_positives: 2070.0000 - val_false_negatives: 153.0000 - val_precision: 0.8609 - val_recall: 0.9882\n",
            "Epoch 2/10\n",
            "100/100 [==============================] - 410s 4s/step - loss: 0.3749 - binary_accuracy: 0.8445 - true_positives: 1585.0000 - true_negatives: 104.0000 - false_positives: 227.0000 - false_negatives: 84.0000 - precision: 0.8747 - recall: 0.9497 - val_loss: 0.3368 - val_binary_accuracy: 0.8629 - val_true_positives: 12864.0000 - val_true_negatives: 670.0000 - val_false_positives: 2049.0000 - val_false_negatives: 102.0000 - val_precision: 0.8626 - val_recall: 0.9921\n",
            "Epoch 3/10\n",
            "100/100 [==============================] - 407s 4s/step - loss: 0.3323 - binary_accuracy: 0.8620 - true_positives: 1602.0000 - true_negatives: 122.0000 - false_positives: 213.0000 - false_negatives: 63.0000 - precision: 0.8826 - recall: 0.9622 - val_loss: 0.3078 - val_binary_accuracy: 0.8837 - val_true_positives: 12506.0000 - val_true_negatives: 1355.0000 - val_false_positives: 1364.0000 - val_false_negatives: 460.0000 - val_precision: 0.9017 - val_recall: 0.9645\n",
            "Epoch 4/10\n",
            "100/100 [==============================] - 402s 4s/step - loss: 0.3194 - binary_accuracy: 0.8740 - true_positives: 1592.0000 - true_negatives: 156.0000 - false_positives: 183.0000 - false_negatives: 69.0000 - precision: 0.8969 - recall: 0.9585 - val_loss: 0.3235 - val_binary_accuracy: 0.8755 - val_true_positives: 12871.0000 - val_true_negatives: 862.0000 - val_false_positives: 1857.0000 - val_false_negatives: 95.0000 - val_precision: 0.8739 - val_recall: 0.9927\n",
            "Epoch 5/10\n",
            "100/100 [==============================] - 405s 4s/step - loss: 0.3048 - binary_accuracy: 0.8773 - true_positives: 1632.0000 - true_negatives: 120.0000 - false_positives: 192.0000 - false_negatives: 53.0000 - precision: 0.8947 - recall: 0.9685 - val_loss: 0.3225 - val_binary_accuracy: 0.8703 - val_true_positives: 12876.0000 - val_true_negatives: 774.0000 - val_false_positives: 1945.0000 - val_false_negatives: 90.0000 - val_precision: 0.8688 - val_recall: 0.9931\n",
            "Epoch 6/10\n",
            "100/100 [==============================] - 406s 4s/step - loss: 0.3172 - binary_accuracy: 0.8770 - true_positives: 1586.0000 - true_negatives: 168.0000 - false_positives: 176.0000 - false_negatives: 70.0000 - precision: 0.9001 - recall: 0.9577 - val_loss: 0.2930 - val_binary_accuracy: 0.8905 - val_true_positives: 12320.0000 - val_true_negatives: 1647.0000 - val_false_positives: 1072.0000 - val_false_negatives: 646.0000 - val_precision: 0.9200 - val_recall: 0.9502\n",
            "Epoch 7/10\n",
            "100/100 [==============================] - 400s 4s/step - loss: 0.2778 - binary_accuracy: 0.8965 - true_positives: 1617.0000 - true_negatives: 176.0000 - false_positives: 155.0000 - false_negatives: 52.0000 - precision: 0.9125 - recall: 0.9688 - val_loss: 0.2831 - val_binary_accuracy: 0.8934 - val_true_positives: 12507.0000 - val_true_negatives: 1506.0000 - val_false_positives: 1213.0000 - val_false_negatives: 459.0000 - val_precision: 0.9116 - val_recall: 0.9646\n",
            "Epoch 8/10\n",
            "100/100 [==============================] - 398s 4s/step - loss: 0.3163 - binary_accuracy: 0.8740 - true_positives: 1564.0000 - true_negatives: 184.0000 - false_positives: 178.0000 - false_negatives: 74.0000 - precision: 0.8978 - recall: 0.9548 - val_loss: 0.3217 - val_binary_accuracy: 0.8750 - val_true_positives: 12862.0000 - val_true_negatives: 863.0000 - val_false_positives: 1856.0000 - val_false_negatives: 104.0000 - val_precision: 0.8739 - val_recall: 0.9920\n",
            "Epoch 9/10\n",
            "100/100 [==============================] - 395s 4s/step - loss: 0.3161 - binary_accuracy: 0.8770 - true_positives: 1560.0000 - true_negatives: 194.0000 - false_positives: 181.0000 - false_negatives: 65.0000 - precision: 0.8960 - recall: 0.9600 - val_loss: 0.2859 - val_binary_accuracy: 0.8903 - val_true_positives: 12779.0000 - val_true_negatives: 1186.0000 - val_false_positives: 1533.0000 - val_false_negatives: 187.0000 - val_precision: 0.8929 - val_recall: 0.9856\n",
            "Epoch 10/10\n",
            "100/100 [==============================] - 406s 4s/step - loss: 0.2951 - binary_accuracy: 0.8828 - true_positives: 1563.0000 - true_negatives: 200.0000 - false_positives: 165.0000 - false_negatives: 69.0000 - precision: 0.9045 - recall: 0.9577 - val_loss: 0.2788 - val_binary_accuracy: 0.8960 - val_true_positives: 12721.0000 - val_true_negatives: 1332.0000 - val_false_positives: 1387.0000 - val_false_negatives: 245.0000 - val_precision: 0.9017 - val_recall: 0.9811\n"
          ]
        }
      ],
      "source": [
        "vgghist = model.fit(train_generator, validation_data = validation_generator, steps_per_epoch = 100, epochs = 10)"
      ]
    },
    {
      "cell_type": "code",
      "execution_count": 8,
      "id": "f22dcdd0",
      "metadata": {
        "id": "f22dcdd0"
      },
      "outputs": [],
      "source": [
        "from keras.models import load_model\n",
        "\n",
        "# Save model\n",
        "model.save(\"Final_Ad_NoAd_VGG.h5\")"
      ]
    },
    {
      "cell_type": "code",
      "execution_count": null,
      "id": "F5PPbOcZ58fa",
      "metadata": {
        "id": "F5PPbOcZ58fa"
      },
      "outputs": [],
      "source": [
        "!unzip \"drive/My Drive/test.zip\""
      ]
    },
    {
      "cell_type": "code",
      "execution_count": 10,
      "id": "d19611ce",
      "metadata": {
        "colab": {
          "base_uri": "https://localhost:8080/"
        },
        "id": "d19611ce",
        "outputId": "1dd2ae82-e8d2-4e00-c565-9e2727e41f58"
      },
      "outputs": [
        {
          "name": "stdout",
          "output_type": "stream",
          "text": [
            "Found 15687 images belonging to 2 classes.\n",
            "785/785 [==============================] - 335s 425ms/step - loss: 0.2796 - binary_accuracy: 0.8951 - true_positives: 12730.0000 - true_negatives: 1312.0000 - false_positives: 1408.0000 - false_negatives: 237.0000 - precision: 0.9004 - recall: 0.9817\n",
            "evaluate binary_accuracy: 89.51%\n"
          ]
        }
      ],
      "source": [
        "from keras.models import load_model\n",
        "from PIL import Image\n",
        "\n",
        "Image.MAX_IMAGE_PIXELS = None\n",
        "\n",
        "# Flow test images in batches of 20 using test_datagen generator\n",
        "test_gen = ImageDataGenerator( rescale = 1.0/255. )\n",
        "test_generator = test_gen.flow_from_directory( test_dir,  batch_size = 20, class_mode = 'binary', target_size = (300, 300))\n",
        "saved_model = load_model(\"Final_Ad_NoAd_VGG.h5\")\n",
        "\n",
        "# Evaluate on test data\n",
        "scores = saved_model.evaluate(test_generator)\n",
        "print(\"%s%s: %.2f%%\" % (\"evaluate \",saved_model.metrics_names[1], scores[1]*100))"
      ]
    },
    {
      "cell_type": "code",
      "execution_count": 12,
      "id": "jheKADKOw8IK",
      "metadata": {
        "colab": {
          "base_uri": "https://localhost:8080/",
          "height": 492
        },
        "id": "jheKADKOw8IK",
        "outputId": "eecaa385-b487-4e89-9cfa-555b94acf418"
      },
      "outputs": [
        {
          "name": "stdout",
          "output_type": "stream",
          "text": [
            "        Metric              Value\n",
            "0       0.27955037355422974 loss\n",
            "1       0.8951361179351807  binary_accuracy\n",
            "2       12730.0             true_positives\n",
            "3       1312.0              true_negatives\n",
            "4       1408.0              false_positives\n",
            "5       237.0               false_negatives\n",
            "6       0.9004102349281311  precision\n",
            "7       0.9817228317260742  recall\n"
          ]
        },
        {
          "data": {
            "image/png": "[encoded data removed]",
            "text/plain": [
              "<Figure size 432x288 with 1 Axes>"
            ]
          },
          "metadata": {},
          "output_type": "display_data"
        }
      ],
      "source": [
        "import numpy as np\n",
        "import seaborn as sns; sns.set_theme()\n",
        "\n",
        "fmt = '{:<8}{:<20}{}'\n",
        "\n",
        "print(fmt.format('', 'Metric', 'Value'))\n",
        "for i, (a, b) in enumerate(zip(scores, model.metrics_names)):\n",
        "    print(fmt.format(i, a, b))\n",
        "\n",
        "sns.set(font_scale=2)\n",
        "\n",
        "def plot_matrix(cm, classes, title):\n",
        "  ax = sns.heatmap(cm, cmap=\"Blues\", annot=True, xticklabels=classes, yticklabels=classes, cbar=False)\n",
        "  ax.set(title=title, xlabel=\"predicted label\", ylabel=\"true label\")\n",
        "    \n",
        "cm = np.array([[scores[2],scores[4]],[scores[5],scores[3]]])\n",
        "classes = ['Ad', 'nonAd']\n",
        "title = \"VGG Confusion Matrix\"\n",
        "\n",
        "plot_matrix(cm, classes, title)"
      ]
    }
  ],
  "metadata": {
    "accelerator": "GPU",
    "colab": {
      "provenance": []
    },
    "gpuClass": "standard",
    "kernelspec": {
      "display_name": "Python 3 (ipykernel)",
      "language": "python",
      "name": "python3"
    },
    "language_info": {
      "codemirror_mode": {
        "name": "ipython",
        "version": 3
      },
      "file_extension": ".py",
      "mimetype": "text/x-python",
      "name": "python",
      "nbconvert_exporter": "python",
      "pygments_lexer": "ipython3",
      "version": "3.10.7"
    }
  },
  "nbformat": 4,
  "nbformat_minor": 5
}
