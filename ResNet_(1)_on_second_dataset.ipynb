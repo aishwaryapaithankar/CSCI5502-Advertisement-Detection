{
  "cells": [
    {
      "cell_type": "code",
      "execution_count": 1,
      "id": "a25c9317-c3f7-4c76-83fd-3fb5dcf6d60b",
      "metadata": {
        "id": "a25c9317-c3f7-4c76-83fd-3fb5dcf6d60b"
      },
      "outputs": [],
      "source": [
        "import os"
      ]
    },
    {
      "cell_type": "code",
      "source": [
        "from google.colab import drive\n",
        "drive.mount('/content/drive')"
      ],
      "metadata": {
        "id": "Tai6aBfA6s_U",
        "colab": {
          "base_uri": "https://localhost:8080/"
        },
        "outputId": "a7745c35-1097-4631-e308-df7511f10028"
      },
      "id": "Tai6aBfA6s_U",
      "execution_count": 2,
      "outputs": [
        {
          "output_type": "stream",
          "name": "stdout",
          "text": [
            "Drive already mounted at /content/drive; to attempt to forcibly remount, call drive.mount(\"/content/drive\", force_remount=True).\n"
          ]
        }
      ]
    },
    {
      "cell_type": "code",
      "source": [
        "!ls"
      ],
      "metadata": {
        "colab": {
          "base_uri": "https://localhost:8080/"
        },
        "id": "fICh6cBFJEU2",
        "outputId": "ae76c47d-d2dc-47ea-e762-716e13bee9d6"
      },
      "id": "fICh6cBFJEU2",
      "execution_count": 3,
      "outputs": [
        {
          "output_type": "stream",
          "name": "stdout",
          "text": [
            "drive  Ktrain  Kval  __MACOSX  sample_data\n"
          ]
        }
      ]
    },
    {
      "cell_type": "code",
      "source": [],
      "metadata": {
        "id": "EIHs3rjLCXRs"
      },
      "id": "EIHs3rjLCXRs",
      "execution_count": 3,
      "outputs": []
    },
    {
      "cell_type": "code",
      "source": [],
      "metadata": {
        "id": "nfvsqOtVJMA1"
      },
      "id": "nfvsqOtVJMA1",
      "execution_count": 3,
      "outputs": []
    },
    {
      "cell_type": "code",
      "source": [
        "!unzip \"drive/My Drive/Ktrain.zip\"\n",
        "!unzip \"drive/My Drive/Kval.zip\""
      ],
      "metadata": {
        "colab": {
          "base_uri": "https://localhost:8080/"
        },
        "id": "QDQ66M4y7JZx",
        "outputId": "49c61d6c-c20d-41ac-b53d-2842acc9327c"
      },
      "id": "QDQ66M4y7JZx",
      "execution_count": 4,
      "outputs": [
        {
          "output_type": "stream",
          "name": "stdout",
          "text": [
            "Archive:  drive/My Drive/Ktrain.zip\n",
            "replace Ktrain/.DS_Store? [y]es, [n]o, [A]ll, [N]one, [r]ename: Archive:  drive/My Drive/Kval.zip\n",
            "replace Kval/.DS_Store? [y]es, [n]o, [A]ll, [N]one, [r]ename: "
          ]
        }
      ]
    },
    {
      "cell_type": "code",
      "source": [
        "train_dir = 'Ktrain'\n",
        "validation_dir = 'Kval'\n",
        "test_dir = 'Ktest'"
      ],
      "metadata": {
        "id": "cWMawJgm6x_z"
      },
      "id": "cWMawJgm6x_z",
      "execution_count": 5,
      "outputs": []
    },
    {
      "cell_type": "code",
      "execution_count": 6,
      "id": "5270f3a2-4910-464c-8014-f5c59c327c85",
      "metadata": {
        "id": "5270f3a2-4910-464c-8014-f5c59c327c85"
      },
      "outputs": [],
      "source": [
        "# train_non_ads_dir_sample = os.path.join(base_dir, 'neg')"
      ]
    },
    {
      "cell_type": "code",
      "execution_count": 7,
      "id": "02e34234",
      "metadata": {
        "id": "02e34234"
      },
      "outputs": [],
      "source": [
        "from keras.preprocessing.image import ImageDataGenerator"
      ]
    },
    {
      "cell_type": "code",
      "execution_count": 8,
      "id": "d0ba4679",
      "metadata": {
        "id": "d0ba4679"
      },
      "outputs": [],
      "source": [
        "# Directory with our training ad pictures\n",
        "train_ads_dir = os.path.join(train_dir, 'pos')\n",
        "\n",
        "# Directory with our training dog pictures\n",
        "train_noads_dir = os.path.join(train_dir, 'neg')\n",
        "\n",
        "# Directory with our validation ad pictures\n",
        "validation_ads_dir = os.path.join(validation_dir, 'pos')\n",
        "\n",
        "# Directory with our validation dog pictures\n",
        "validation_noads_dir = os.path.join(validation_dir, 'neg')"
      ]
    },
    {
      "cell_type": "code",
      "execution_count": 9,
      "id": "5a742b11",
      "metadata": {
        "colab": {
          "base_uri": "https://localhost:8080/"
        },
        "id": "5a742b11",
        "outputId": "7737b879-bb60-4e6d-f3ee-a3abd2eba8b1"
      },
      "outputs": [
        {
          "output_type": "stream",
          "name": "stdout",
          "text": [
            "Found 359 images belonging to 2 classes.\n",
            "Found 120 images belonging to 2 classes.\n"
          ]
        }
      ],
      "source": [
        "train_datagen = ImageDataGenerator()\n",
        "test_gen = ImageDataGenerator()\n",
        "\n",
        "train_generator = train_datagen.flow_from_directory(train_dir, batch_size = 20, class_mode = 'binary', target_size = (224, 224))\n",
        "\n",
        "validation_generator = test_gen.flow_from_directory( validation_dir, batch_size = 20, class_mode = 'binary', target_size = (224, 224))"
      ]
    },
    {
      "cell_type": "code",
      "execution_count": 10,
      "id": "8500aa01-a168-48bb-b3f6-2075ad2f0769",
      "metadata": {
        "id": "8500aa01-a168-48bb-b3f6-2075ad2f0769"
      },
      "outputs": [],
      "source": [
        "from tensorflow.keras.applications import ResNet50\n",
        "\n",
        "base_model = ResNet50(input_shape=(224, 224,3), include_top=False, weights=\"imagenet\")"
      ]
    },
    {
      "cell_type": "code",
      "execution_count": 11,
      "id": "aa957dd4",
      "metadata": {
        "id": "aa957dd4"
      },
      "outputs": [],
      "source": [
        "for layer in base_model.layers:\n",
        "    layer.trainable = False"
      ]
    },
    {
      "cell_type": "code",
      "execution_count": 12,
      "id": "7e28c0e2",
      "metadata": {
        "id": "7e28c0e2"
      },
      "outputs": [],
      "source": [
        "from keras.applications import ResNet50\n",
        "from keras.models import Sequential\n",
        "from keras.layers import Dense, Flatten, GlobalAveragePooling2D\n",
        "\n",
        "base_model = Sequential()\n",
        "base_model.add(ResNet50(include_top=False, weights='imagenet', pooling='max'))\n",
        "# base_model.add(Dropout(0.5))\n",
        "base_model.add(Dense(1, activation='sigmoid'))"
      ]
    },
    {
      "cell_type": "code",
      "execution_count": 13,
      "id": "3a4c4f4f",
      "metadata": {
        "id": "3a4c4f4f"
      },
      "outputs": [],
      "source": [
        "import tensorflow as tf\n",
        "import keras"
      ]
    },
    {
      "cell_type": "code",
      "execution_count": 14,
      "id": "20c5d672",
      "metadata": {
        "id": "20c5d672"
      },
      "outputs": [],
      "source": [
        "opt = keras.optimizers.SGD(learning_rate = 0.0001)"
      ]
    },
    {
      "cell_type": "code",
      "source": [
        "from tensorflow.keras.metrics import TruePositives, TrueNegatives, FalseNegatives, FalsePositives,Recall , Precision, BinaryAccuracy"
      ],
      "metadata": {
        "id": "G6FSRGVmLrEJ"
      },
      "id": "G6FSRGVmLrEJ",
      "execution_count": 15,
      "outputs": []
    },
    {
      "cell_type": "code",
      "execution_count": 16,
      "id": "2fabef5b",
      "metadata": {
        "id": "2fabef5b"
      },
      "outputs": [],
      "source": [
        " base_model.compile(optimizer = opt , loss = 'binary_crossentropy', metrics = [\n",
        "        BinaryAccuracy(),\n",
        "        TruePositives(),\n",
        "        TrueNegatives(),\n",
        "        FalsePositives(),\n",
        "        FalseNegatives(),\n",
        "        Precision(),\n",
        "        Recall()\n",
        "    ])"
      ]
    },
    {
      "cell_type": "code",
      "execution_count": 17,
      "id": "94094736",
      "metadata": {
        "colab": {
          "base_uri": "https://localhost:8080/"
        },
        "id": "94094736",
        "outputId": "c06ea13b-edad-4df3-e372-30cb8ab4625f"
      },
      "outputs": [
        {
          "output_type": "stream",
          "name": "stdout",
          "text": [
            "Epoch 1/10\n",
            " 18/100 [====>.........................] - ETA: 12:47 - loss: 2.1207 - binary_accuracy: 0.6407 - true_positives: 133.0000 - true_negatives: 97.0000 - false_positives: 82.0000 - false_negatives: 47.0000 - precision: 0.6186 - recall: 0.7389"
          ]
        },
        {
          "output_type": "stream",
          "name": "stderr",
          "text": [
            "WARNING:tensorflow:Your input ran out of data; interrupting training. Make sure that your dataset or generator can generate at least `steps_per_epoch * epochs` batches (in this case, 1000 batches). You may need to use the repeat() function when building your dataset.\n"
          ]
        },
        {
          "output_type": "stream",
          "name": "stdout",
          "text": [
            "\b\b\b\b\b\b\b\b\b\b\b\b\b\b\b\b\b\b\b\b\b\b\b\b\b\b\b\b\b\b\b\b\b\b\b\b\b\b\b\b\b\b\b\b\b\b\b\b\b\b\b\b\b\b\b\b\b\b\b\b\b\b\b\b\b\b\b\b\b\b\b\b\b\b\b\b\b\b\b\b\b\b\b\b\b\b\b\b\b\b\b\b\b\b\b\b\b\b\b\b\b\b\b\b\b\b\b\b\b\b\b\b\b\b\b\b\b\b\b\b\b\b\b\b\b\b\b\b\b\b\b\b\b\b\b\b\b\b\b\b\b\b\b\b\b\b\b\b\b\b\b\b\b\b\b\b\b\b\b\b\b\b\b\b\b\b\b\b\b\b\b\b\b\b\b\b\b\b\b\b\b\b\b\b\b\b\b\b\b\b\b\b\b\b\b\b\b\b\b\b\b\b\b\b\b\b\b\b\b\b\b\b\b\b\b\b\b\b\b\b\b\b\b\b\b\b\b\b\b\b\b\b\b\b\b\b\b\b\r100/100 [==============================] - 192s 2s/step - loss: 2.1207 - binary_accuracy: 0.6407 - true_positives: 133.0000 - true_negatives: 97.0000 - false_positives: 82.0000 - false_negatives: 47.0000 - precision: 0.6186 - recall: 0.7389 - val_loss: 2.6074 - val_binary_accuracy: 0.5083 - val_true_positives: 26.0000 - val_true_negatives: 35.0000 - val_false_positives: 25.0000 - val_false_negatives: 34.0000 - val_precision: 0.5098 - val_recall: 0.4333\n"
          ]
        }
      ],
      "source": [
        "resnet_history = base_model.fit(train_generator, validation_data = validation_generator, steps_per_epoch = 100, epochs = 10)"
      ]
    },
    {
      "cell_type": "code",
      "execution_count": 18,
      "id": "f6ee313f",
      "metadata": {
        "id": "f6ee313f"
      },
      "outputs": [],
      "source": [
        "base_model.save('resnet_on_second_dataset.h5')"
      ]
    },
    {
      "cell_type": "code",
      "source": [
        "!unzip \"drive/My Drive/Ktest.zip\""
      ],
      "metadata": {
        "id": "crtK0hGaj72R",
        "colab": {
          "base_uri": "https://localhost:8080/"
        },
        "outputId": "5995a17e-a7da-460e-bba7-322b239d8396"
      },
      "id": "crtK0hGaj72R",
      "execution_count": 19,
      "outputs": [
        {
          "output_type": "stream",
          "name": "stdout",
          "text": [
            "Archive:  drive/My Drive/Ktest.zip\n",
            "   creating: Ktest/\n",
            "  inflating: Ktest/.DS_Store         \n",
            "  inflating: __MACOSX/Ktest/._.DS_Store  \n",
            "   creating: Ktest/neg/\n",
            "   creating: Ktest/pos/\n",
            "  inflating: Ktest/neg/228.png       \n",
            "  inflating: Ktest/neg/174.png       \n",
            "  inflating: Ktest/neg/362.png       \n",
            "  inflating: Ktest/neg/366.png       \n",
            "  inflating: Ktest/neg/399.png       \n",
            "  inflating: Ktest/neg/170.png       \n",
            "  inflating: Ktest/neg/158.png       \n",
            "  inflating: Ktest/neg/159.png       \n",
            "  inflating: Ktest/neg/210.png       \n",
            "  inflating: Ktest/neg/370.png       \n",
            "  inflating: Ktest/neg/303.png       \n",
            "  inflating: Ktest/neg/277.png       \n",
            "  inflating: Ktest/neg/128.png       \n",
            "  inflating: Ktest/neg/116.png       \n",
            "  inflating: Ktest/neg/248.png       \n",
            "  inflating: Ktest/neg/103.png       \n",
            "  inflating: Ktest/neg/113.png       \n",
            "  inflating: Ktest/neg/306.png       \n",
            "  inflating: Ktest/neg/298.png       \n",
            "  inflating: Ktest/neg/139.png       \n",
            "  inflating: Ktest/neg/105.png       \n",
            "  inflating: Ktest/neg/111.png       \n",
            "  inflating: Ktest/neg/313.png       \n",
            "  inflating: Ktest/neg/336.png       \n",
            "  inflating: Ktest/neg/135.png       \n",
            "  inflating: Ktest/neg/241.png       \n",
            "  inflating: Ktest/neg/254.png       \n",
            "  inflating: Ktest/neg/136.png       \n",
            "  inflating: Ktest/neg/122.png       \n",
            "  inflating: Ktest/neg/334.png       \n",
            "  inflating: Ktest/neg/308.png       \n",
            "  inflating: Ktest/neg/330.png       \n",
            "  inflating: Ktest/neg/132.png       \n",
            "  inflating: Ktest/neg/333.png       \n",
            "  inflating: Ktest/neg/290.png       \n",
            "  inflating: Ktest/neg/291.png       \n",
            "  inflating: Ktest/neg/118.png       \n",
            "  inflating: Ktest/neg/341.png       \n",
            "  inflating: Ktest/neg/221.png       \n",
            "  inflating: Ktest/neg/234.png       \n",
            "  inflating: Ktest/neg/208.png       \n",
            "  inflating: Ktest/neg/195.png       \n",
            "  inflating: Ktest/neg/340.png       \n",
            "  inflating: Ktest/neg/342.png       \n",
            "  inflating: Ktest/neg/197.png       \n",
            "  inflating: Ktest/neg/223.png       \n",
            "  inflating: Ktest/neg/196.png       \n",
            "  inflating: Ktest/neg/145.png       \n",
            "  inflating: Ktest/neg/151.png       \n",
            "  inflating: Ktest/neg/233.png       \n",
            "  inflating: Ktest/neg/226.png       \n",
            "  inflating: Ktest/neg/232.png       \n",
            "  inflating: Ktest/neg/150.png       \n",
            "  inflating: Ktest/neg/344.png       \n",
            "  inflating: Ktest/neg/387.png       \n",
            "  inflating: Ktest/neg/152.png       \n",
            "  inflating: Ktest/neg/230.png       \n",
            "  inflating: Ktest/neg/219.png       \n",
            "  inflating: Ktest/neg/231.png       \n",
            "  inflating: Ktest/neg/184.png       \n",
            "  inflating: Ktest/pos/189.png       \n",
            "  inflating: __MACOSX/Ktest/pos/._189.png  \n",
            "  inflating: Ktest/pos/214.png       \n",
            "  inflating: __MACOSX/Ktest/pos/._214.png  \n",
            "  inflating: Ktest/pos/177.png       \n",
            "  inflating: __MACOSX/Ktest/pos/._177.png  \n",
            "  inflating: Ktest/pos/161.png       \n",
            "  inflating: __MACOSX/Ktest/pos/._161.png  \n",
            "  inflating: Ktest/pos/175.png       \n",
            "  inflating: __MACOSX/Ktest/pos/._175.png  \n",
            "  inflating: Ktest/pos/206.png       \n",
            "  inflating: __MACOSX/Ktest/pos/._206.png  \n",
            "  inflating: Ktest/pos/64.png        \n",
            "  inflating: __MACOSX/Ktest/pos/._64.png  \n",
            "  inflating: Ktest/pos/171.png       \n",
            "  inflating: __MACOSX/Ktest/pos/._171.png  \n",
            "  inflating: Ktest/pos/8.png         \n",
            "  inflating: __MACOSX/Ktest/pos/._8.png  \n",
            "  inflating: Ktest/pos/72.png        \n",
            "  inflating: __MACOSX/Ktest/pos/._72.png  \n",
            "  inflating: Ktest/pos/66.png        \n",
            "  inflating: __MACOSX/Ktest/pos/._66.png  \n",
            "  inflating: Ktest/pos/239.png       \n",
            "  inflating: __MACOSX/Ktest/pos/._239.png  \n",
            "  inflating: Ktest/pos/238.png       \n",
            "  inflating: __MACOSX/Ktest/pos/._238.png  \n",
            "  inflating: Ktest/pos/166.png       \n",
            "  inflating: __MACOSX/Ktest/pos/._166.png  \n",
            "  inflating: Ktest/pos/129.png       \n",
            "  inflating: __MACOSX/Ktest/pos/._129.png  \n",
            "  inflating: Ktest/pos/263.png       \n",
            "  inflating: __MACOSX/Ktest/pos/._263.png  \n",
            "  inflating: Ktest/pos/277.png       \n",
            "  inflating: __MACOSX/Ktest/pos/._277.png  \n",
            "  inflating: Ktest/pos/289.png       \n",
            "  inflating: __MACOSX/Ktest/pos/._289.png  \n",
            "  inflating: Ktest/pos/276.png       \n",
            "  inflating: __MACOSX/Ktest/pos/._276.png  \n",
            "  inflating: Ktest/pos/100.png       \n",
            "  inflating: __MACOSX/Ktest/pos/._100.png  \n",
            "  inflating: Ktest/pos/128.png       \n",
            "  inflating: __MACOSX/Ktest/pos/._128.png  \n",
            "  inflating: Ktest/pos/261.png       \n",
            "  inflating: __MACOSX/Ktest/pos/._261.png  \n",
            "  inflating: Ktest/pos/117.png       \n",
            "  inflating: __MACOSX/Ktest/pos/._117.png  \n",
            "  inflating: Ktest/pos/12.png        \n",
            "  inflating: __MACOSX/Ktest/pos/._12.png  \n",
            "  inflating: Ktest/pos/110.png       \n",
            "  inflating: __MACOSX/Ktest/pos/._110.png  \n",
            "  inflating: Ktest/pos/104.png       \n",
            "  inflating: __MACOSX/Ktest/pos/._104.png  \n",
            "  inflating: Ktest/pos/272.png       \n",
            "  inflating: __MACOSX/Ktest/pos/._272.png  \n",
            "  inflating: Ktest/pos/105.png       \n",
            "  inflating: __MACOSX/Ktest/pos/._105.png  \n",
            "  inflating: Ktest/pos/21.png        \n",
            "  inflating: __MACOSX/Ktest/pos/._21.png  \n",
            "  inflating: Ktest/pos/242.png       \n",
            "  inflating: __MACOSX/Ktest/pos/._242.png  \n",
            "  inflating: Ktest/pos/295.png       \n",
            "  inflating: __MACOSX/Ktest/pos/._295.png  \n",
            "  inflating: Ktest/pos/121.png       \n",
            "  inflating: __MACOSX/Ktest/pos/._121.png  \n",
            "  inflating: Ktest/pos/268.png       \n",
            "  inflating: __MACOSX/Ktest/pos/._268.png  \n",
            "  inflating: Ktest/pos/23.png        \n",
            "  inflating: __MACOSX/Ktest/pos/._23.png  \n",
            "  inflating: Ktest/pos/287.png       \n",
            "  inflating: __MACOSX/Ktest/pos/._287.png  \n",
            "  inflating: Ktest/pos/286.png       \n",
            "  inflating: __MACOSX/Ktest/pos/._286.png  \n",
            "  inflating: Ktest/pos/279.png       \n",
            "  inflating: __MACOSX/Ktest/pos/._279.png  \n",
            "  inflating: Ktest/pos/127.png       \n",
            "  inflating: __MACOSX/Ktest/pos/._127.png  \n",
            "  inflating: Ktest/pos/285.png       \n",
            "  inflating: __MACOSX/Ktest/pos/._285.png  \n",
            "  inflating: Ktest/pos/31.png        \n",
            "  inflating: __MACOSX/Ktest/pos/._31.png  \n",
            "  inflating: Ktest/pos/95.png        \n",
            "  inflating: __MACOSX/Ktest/pos/._95.png  \n",
            "  inflating: Ktest/pos/143.png       \n",
            "  inflating: __MACOSX/Ktest/pos/._143.png  \n",
            "  inflating: Ktest/pos/194.png       \n",
            "  inflating: __MACOSX/Ktest/pos/._194.png  \n",
            "  inflating: Ktest/pos/235.png       \n",
            "  inflating: __MACOSX/Ktest/pos/._235.png  \n",
            "  inflating: Ktest/pos/181.png       \n",
            "  inflating: __MACOSX/Ktest/pos/._181.png  \n",
            "  inflating: Ktest/pos/140.png       \n",
            "  inflating: __MACOSX/Ktest/pos/._140.png  \n",
            "  inflating: Ktest/pos/6.png         \n",
            "  inflating: __MACOSX/Ktest/pos/._6.png  \n",
            "  inflating: Ktest/pos/155.png       \n",
            "  inflating: __MACOSX/Ktest/pos/._155.png  \n",
            "  inflating: Ktest/pos/141.png       \n",
            "  inflating: __MACOSX/Ktest/pos/._141.png  \n",
            "  inflating: Ktest/pos/83.png        \n",
            "  inflating: __MACOSX/Ktest/pos/._83.png  \n",
            "  inflating: Ktest/pos/192.png       \n",
            "  inflating: __MACOSX/Ktest/pos/._192.png  \n",
            "  inflating: Ktest/pos/2.png         \n",
            "  inflating: __MACOSX/Ktest/pos/._2.png  \n",
            "  inflating: Ktest/pos/232.png       \n",
            "  inflating: __MACOSX/Ktest/pos/._232.png  \n",
            "  inflating: Ktest/pos/79.png        \n",
            "  inflating: __MACOSX/Ktest/pos/._79.png  \n",
            "  inflating: Ktest/pos/187.png       \n",
            "  inflating: __MACOSX/Ktest/pos/._187.png  \n",
            "  inflating: Ktest/pos/86.png        \n",
            "  inflating: __MACOSX/Ktest/pos/._86.png  \n",
            "  inflating: Ktest/pos/218.png       \n",
            "  inflating: __MACOSX/Ktest/pos/._218.png  \n",
            "  inflating: Ktest/pos/219.png       \n",
            "  inflating: __MACOSX/Ktest/pos/._219.png  \n",
            "  inflating: Ktest/pos/52.png        \n",
            "  inflating: __MACOSX/Ktest/pos/._52.png  \n",
            "  inflating: Ktest/pos/85.png        \n",
            "  inflating: __MACOSX/Ktest/pos/._85.png  \n"
          ]
        }
      ]
    },
    {
      "cell_type": "code",
      "source": [
        "from keras.models import load_model"
      ],
      "metadata": {
        "id": "Nxitn33ZFm-s"
      },
      "id": "Nxitn33ZFm-s",
      "execution_count": 20,
      "outputs": []
    },
    {
      "cell_type": "code",
      "source": [
        "test_generator = test_gen.flow_from_directory( test_dir,  batch_size = 20, class_mode = 'binary', target_size = (224, 224))"
      ],
      "metadata": {
        "id": "MJKGw_HSJk5l",
        "colab": {
          "base_uri": "https://localhost:8080/"
        },
        "outputId": "65cb6e17-1d67-4da0-b2d3-2bbec0673920"
      },
      "id": "MJKGw_HSJk5l",
      "execution_count": 21,
      "outputs": [
        {
          "output_type": "stream",
          "name": "stdout",
          "text": [
            "Found 120 images belonging to 2 classes.\n"
          ]
        }
      ]
    },
    {
      "cell_type": "code",
      "source": [
        "from PIL import Image\n",
        "\n",
        "Image.MAX_IMAGE_PIXELS = None"
      ],
      "metadata": {
        "id": "smGBNRxaQQuE"
      },
      "id": "smGBNRxaQQuE",
      "execution_count": 22,
      "outputs": []
    },
    {
      "cell_type": "code",
      "source": [
        "saved_model = load_model(\"resnet_on_second_dataset.h5\")\n",
        "\n",
        "# Evaluate on test data\n",
        "scores = saved_model.evaluate(test_generator)\n",
        "print(\"%s%s: %.2f%%\" % (\"evaluate \",saved_model.metrics_names[1], scores[1]*100))"
      ],
      "metadata": {
        "id": "JsuEKGaUDzlt",
        "colab": {
          "base_uri": "https://localhost:8080/"
        },
        "outputId": "56147c20-d868-45e5-ab13-6937e0b729ad"
      },
      "id": "JsuEKGaUDzlt",
      "execution_count": 23,
      "outputs": [
        {
          "output_type": "stream",
          "name": "stdout",
          "text": [
            "6/6 [==============================] - 15s 2s/step - loss: 2.3786 - binary_accuracy: 0.5167 - true_positives: 25.0000 - true_negatives: 37.0000 - false_positives: 23.0000 - false_negatives: 35.0000 - precision: 0.5208 - recall: 0.4167\n",
            "evaluate binary_accuracy: 51.67%\n"
          ]
        }
      ]
    },
    {
      "cell_type": "code",
      "source": [
        "import numpy as np\n",
        "import seaborn as sns; sns.set_theme()\n",
        "\n",
        "fmt = '{:<8}{:<20}{}'\n",
        "\n",
        "print(fmt.format('', 'Metric', 'Value'))\n",
        "for i, (a, b) in enumerate(zip(scores, saved_model.metrics_names)):\n",
        "    print(fmt.format(i, a, b))\n",
        "\n",
        "sns.set(font_scale=2)\n",
        "\n",
        "def plot_matrix(cm, classes, title):\n",
        "  ax = sns.heatmap(cm, cmap=\"Blues\", annot=True, xticklabels=classes, yticklabels=classes, cbar=False, fmt='g')\n",
        "  ax.set(title=title, xlabel=\"predicted label\", ylabel=\"true label\")\n",
        "\n",
        "print(scores)\n",
        "    \n",
        "cm = np.array([[scores[2],scores[4]],[scores[5],scores[3]]])\n",
        "classes = ['Ad', 'nonAd']\n",
        "title = \"ResNet Confusion Matrix\"\n",
        "\n",
        "plot_matrix(cm, classes, title)"
      ],
      "metadata": {
        "id": "sCsY-PEv-2yE",
        "colab": {
          "base_uri": "https://localhost:8080/",
          "height": 510
        },
        "outputId": "93e59edf-7213-4a40-e3d0-fa1d0a4a45ad"
      },
      "id": "sCsY-PEv-2yE",
      "execution_count": 24,
      "outputs": [
        {
          "output_type": "stream",
          "name": "stdout",
          "text": [
            "        Metric              Value\n",
            "0       2.378627300262451   loss\n",
            "1       0.5166666507720947  binary_accuracy\n",
            "2       25.0                true_positives\n",
            "3       37.0                true_negatives\n",
            "4       23.0                false_positives\n",
            "5       35.0                false_negatives\n",
            "6       0.5208333134651184  precision\n",
            "7       0.4166666567325592  recall\n",
            "[2.378627300262451, 0.5166666507720947, 25.0, 37.0, 23.0, 35.0, 0.5208333134651184, 0.4166666567325592]\n"
          ]
        },
        {
          "output_type": "display_data",
          "data": {
            "text/plain": [
              "<Figure size 432x288 with 1 Axes>"
            ],
            "image/png": "[encoded data removed]"
          },
          "metadata": {}
        }
      ]
    },
    {
      "cell_type": "code",
      "source": [
        "from sklearn.metrics import confusion_matrix\n",
        "\n",
        "# y_pred = saved_model.predict(test_generator)\n",
        "y_pred = saved_model.predict(test_generator)"
      ],
      "metadata": {
        "id": "plOHBypJRbIv",
        "colab": {
          "base_uri": "https://localhost:8080/"
        },
        "outputId": "cb690056-431b-45cd-eee0-2b27ae6f3831"
      },
      "id": "plOHBypJRbIv",
      "execution_count": 25,
      "outputs": [
        {
          "output_type": "stream",
          "name": "stdout",
          "text": [
            "6/6 [==============================] - 15s 2s/step\n"
          ]
        }
      ]
    },
    {
      "cell_type": "code",
      "source": [
        "import numpy as np"
      ],
      "metadata": {
        "id": "8n4X881ES-Ps"
      },
      "id": "8n4X881ES-Ps",
      "execution_count": 26,
      "outputs": []
    },
    {
      "cell_type": "code",
      "source": [
        "y_pred = np.rint(y_pred)\n",
        "print(confusion_matrix(test_generator.classes, y_pred))"
      ],
      "metadata": {
        "id": "S_8-68G2RgPQ",
        "colab": {
          "base_uri": "https://localhost:8080/"
        },
        "outputId": "7efda0f9-fa05-44ef-cd4e-996ee5520a8a"
      },
      "id": "S_8-68G2RgPQ",
      "execution_count": 27,
      "outputs": [
        {
          "output_type": "stream",
          "name": "stdout",
          "text": [
            "[[33 27]\n",
            " [39 21]]\n"
          ]
        }
      ]
    },
    {
      "cell_type": "code",
      "source": [
        "print(test_generator.classes)\n",
        "print(test_generator.class_indices.keys())"
      ],
      "metadata": {
        "id": "nJFVVOi9RmYz",
        "colab": {
          "base_uri": "https://localhost:8080/"
        },
        "outputId": "e14698d9-e5aa-4104-a0bc-4d120d1f78a6"
      },
      "id": "nJFVVOi9RmYz",
      "execution_count": 28,
      "outputs": [
        {
          "output_type": "stream",
          "name": "stdout",
          "text": [
            "[0 0 0 0 0 0 0 0 0 0 0 0 0 0 0 0 0 0 0 0 0 0 0 0 0 0 0 0 0 0 0 0 0 0 0 0 0\n",
            " 0 0 0 0 0 0 0 0 0 0 0 0 0 0 0 0 0 0 0 0 0 0 0 1 1 1 1 1 1 1 1 1 1 1 1 1 1\n",
            " 1 1 1 1 1 1 1 1 1 1 1 1 1 1 1 1 1 1 1 1 1 1 1 1 1 1 1 1 1 1 1 1 1 1 1 1 1\n",
            " 1 1 1 1 1 1 1 1 1]\n",
            "dict_keys(['neg', 'pos'])\n"
          ]
        }
      ]
    },
    {
      "cell_type": "code",
      "source": [
        "from sklearn.metrics import classification_report\n",
        "\n",
        "print(classification_report(test_generator.classes, y_pred))"
      ],
      "metadata": {
        "id": "xsru973fRo7_",
        "colab": {
          "base_uri": "https://localhost:8080/"
        },
        "outputId": "c83a5db4-4fe7-4d4b-f914-6ea055c298f2"
      },
      "id": "xsru973fRo7_",
      "execution_count": 29,
      "outputs": [
        {
          "output_type": "stream",
          "name": "stdout",
          "text": [
            "              precision    recall  f1-score   support\n",
            "\n",
            "           0       0.46      0.55      0.50        60\n",
            "           1       0.44      0.35      0.39        60\n",
            "\n",
            "    accuracy                           0.45       120\n",
            "   macro avg       0.45      0.45      0.44       120\n",
            "weighted avg       0.45      0.45      0.44       120\n",
            "\n"
          ]
        }
      ]
    }
  ],
  "metadata": {
    "kernelspec": {
      "display_name": "Python 3 (ipykernel)",
      "language": "python",
      "name": "python3"
    },
    "language_info": {
      "codemirror_mode": {
        "name": "ipython",
        "version": 3
      },
      "file_extension": ".py",
      "mimetype": "text/x-python",
      "name": "python",
      "nbconvert_exporter": "python",
      "pygments_lexer": "ipython3",
      "version": "3.10.7"
    },
    "colab": {
      "provenance": []
    },
    "gpuClass": "standard",
    "accelerator": "TPU"
  },
  "nbformat": 4,
  "nbformat_minor": 5
}