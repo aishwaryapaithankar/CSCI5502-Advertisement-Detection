{
  "cells": [
    {
      "cell_type": "code",
      "execution_count": null,
      "metadata": {
        "id": "KhAB_Gv46rHy"
      },
      "outputs": [],
      "source": [
        "from google.colab import drive\n",
        "drive.mount('/content/drive')\n",
        "\n",
        "!unzip \"drive/My Drive/Ktrain.zip\"\n",
        "!unzip \"drive/My Drive/Kval.zip\""
      ],
      "id": "KhAB_Gv46rHy"
    },
    {
      "cell_type": "code",
      "execution_count": 11,
      "metadata": {
        "id": "515ad077"
      },
      "outputs": [],
      "source": [
        "import keras,os\n",
        "from keras.preprocessing.image import ImageDataGenerator\n",
        "from keras.models import Sequential\n",
        "import numpy as np\n",
        "\n",
        "# base_dir = '/root/Project'\n",
        "\n",
        "# train_dir = os.path.join(base_dir, 'Ktrain')\n",
        "# validation_dir = os.path.join(base_dir, 'Kval')\n",
        "# test_dir = os.path.join(base_dir, 'Ktest')\n",
        "\n",
        "train_dir = 'Ktrain'\n",
        "validation_dir = 'Kval'\n",
        "test_dir = 'Ktest'\n",
        "\n",
        "# Directory with our training ad pictures\n",
        "train_ads_dir = os.path.join(train_dir, 'pos')\n",
        "\n",
        "# Directory with our training dog pictures\n",
        "train_noads_dir = os.path.join(train_dir, 'neg')\n",
        "\n",
        "# Directory with our validation ad pictures\n",
        "validation_ads_dir = os.path.join(validation_dir, 'pos')\n",
        "\n",
        "# Directory with our validation dog pictures\n",
        "validation_noads_dir = os.path.join(validation_dir, 'neg')\n"
      ],
      "id": "515ad077"
    },
    {
      "cell_type": "code",
      "execution_count": 12,
      "metadata": {
        "id": "def64ee0"
      },
      "outputs": [],
      "source": [
        "# Add our data-augmentation parameters to ImageDataGenerator\n",
        "train_datagen = ImageDataGenerator(rescale = 1./255, shear_range = 0.2, zoom_range = 0.2, horizontal_flip = True)\n",
        "\n",
        "# Note that the validation data should not be augmented!\n",
        "test_datagen = ImageDataGenerator( rescale = 1.0/255. )"
      ],
      "id": "def64ee0"
    },
    {
      "cell_type": "code",
      "execution_count": 13,
      "metadata": {
        "colab": {
          "base_uri": "https://localhost:8080/"
        },
        "id": "4e052df7",
        "outputId": "e14cdef8-3d1a-46ee-f713-e83598080994"
      },
      "outputs": [
        {
          "output_type": "stream",
          "name": "stdout",
          "text": [
            "Found 359 images belonging to 2 classes.\n",
            "Found 120 images belonging to 2 classes.\n"
          ]
        }
      ],
      "source": [
        "# Flow training images in batches of 20 using train_datagen generator\n",
        "train_generator = train_datagen.flow_from_directory(train_dir, batch_size = 20, class_mode = 'binary', target_size = (300, 300))\n",
        "\n",
        "# Flow validation images in batches of 20 using test_datagen generator\n",
        "validation_generator = test_datagen.flow_from_directory( validation_dir,  batch_size = 20, class_mode = 'binary', target_size = (300, 300))"
      ],
      "id": "4e052df7"
    },
    {
      "cell_type": "code",
      "execution_count": 14,
      "metadata": {
        "colab": {
          "base_uri": "https://localhost:8080/"
        },
        "id": "623d4637",
        "outputId": "87fa9397-a2be-4b61-ae2d-14ed66b7e6b6"
      },
      "outputs": [
        {
          "output_type": "stream",
          "name": "stdout",
          "text": [
            "Downloading data from https://storage.googleapis.com/tensorflow/keras-applications/vgg16/vgg16_weights_tf_dim_ordering_tf_kernels_notop.h5\n",
            "58889256/58889256 [==============================] - 0s 0us/step\n"
          ]
        }
      ],
      "source": [
        "from keras.optimizers import Adam\n",
        "from keras.layers import Dense, Conv2D, MaxPool2D , Flatten , Dropout\n",
        "from keras.applications.vgg16 import VGG16\n",
        "from keras.metrics import TruePositives, TrueNegatives, FalseNegatives, FalsePositives,Recall , Precision, BinaryAccuracy\n",
        "\n",
        "base_model = VGG16(input_shape = (300, 300, 3), # Shape of our images\n",
        "include_top = False, # Leave out the last fully connected layer\n",
        "weights = 'imagenet')\n",
        "\n",
        "for layer in base_model.layers:\n",
        "    layer.trainable = False\n",
        "    \n",
        "# Flatten the output layer to 1 dimension\n",
        "x = Flatten()(base_model.output)\n",
        "\n",
        "# Add a fully connected layer with 512 hidden units and ReLU activation\n",
        "x = Dense(512, activation='relu')(x)\n",
        "\n",
        "# Add a dropout rate of 0.5\n",
        "x = Dropout(0.5)(x)\n",
        "\n",
        "# Add a final sigmoid layer with 1 node for classification output\n",
        "x = Dense(1, activation='sigmoid')(x)\n",
        "\n",
        "model = keras.models.Model(base_model.input, x)\n",
        "\n",
        "model.compile(optimizer = keras.optimizers.Adam(learning_rate=0.0001), loss = 'binary_crossentropy',metrics = [BinaryAccuracy(),\n",
        "        TruePositives(),\n",
        "        TrueNegatives(),\n",
        "        FalsePositives(),\n",
        "        FalseNegatives(),\n",
        "        Precision(),\n",
        "        Recall()])"
      ],
      "id": "623d4637"
    },
    {
      "cell_type": "code",
      "execution_count": 15,
      "metadata": {
        "colab": {
          "base_uri": "https://localhost:8080/"
        },
        "id": "532a913d",
        "outputId": "fef58889-f020-47aa-c24c-7d33671afb6e"
      },
      "outputs": [
        {
          "output_type": "stream",
          "name": "stdout",
          "text": [
            "Epoch 1/10\n",
            " 18/100 [====>.........................] - ETA: 25:10 - loss: 0.3119 - binary_accuracy: 0.8524 - true_positives: 151.0000 - true_negatives: 155.0000 - false_positives: 24.0000 - false_negatives: 29.0000 - precision: 0.8629 - recall: 0.8389"
          ]
        },
        {
          "output_type": "stream",
          "name": "stderr",
          "text": [
            "WARNING:tensorflow:Your input ran out of data; interrupting training. Make sure that your dataset or generator can generate at least `steps_per_epoch * epochs` batches (in this case, 1000 batches). You may need to use the repeat() function when building your dataset.\n"
          ]
        },
        {
          "output_type": "stream",
          "name": "stdout",
          "text": [
            "\b\b\b\b\b\b\b\b\b\b\b\b\b\b\b\b\b\b\b\b\b\b\b\b\b\b\b\b\b\b\b\b\b\b\b\b\b\b\b\b\b\b\b\b\b\b\b\b\b\b\b\b\b\b\b\b\b\b\b\b\b\b\b\b\b\b\b\b\b\b\b\b\b\b\b\b\b\b\b\b\b\b\b\b\b\b\b\b\b\b\b\b\b\b\b\b\b\b\b\b\b\b\b\b\b\b\b\b\b\b\b\b\b\b\b\b\b\b\b\b\b\b\b\b\b\b\b\b\b\b\b\b\b\b\b\b\b\b\b\b\b\b\b\b\b\b\b\b\b\b\b\b\b\b\b\b\b\b\b\b\b\b\b\b\b\b\b\b\b\b\b\b\b\b\b\b\b\b\b\b\b\b\b\b\b\b\b\b\b\b\b\b\b\b\b\b\b\b\b\b\b\b\b\b\b\b\b\b\b\b\b\b\b\b\b\b\b\b\b\b\b\b\b\b\b\b\b\b\b\b\b\b\b\b\b\b\b\b\b\r100/100 [==============================] - 478s 5s/step - loss: 0.3119 - binary_accuracy: 0.8524 - true_positives: 151.0000 - true_negatives: 155.0000 - false_positives: 24.0000 - false_negatives: 29.0000 - precision: 0.8629 - recall: 0.8389 - val_loss: 0.1216 - val_binary_accuracy: 0.9500 - val_true_positives: 54.0000 - val_true_negatives: 60.0000 - val_false_positives: 0.0000e+00 - val_false_negatives: 6.0000 - val_precision: 1.0000 - val_recall: 0.9000\n"
          ]
        }
      ],
      "source": [
        "vgghist = model.fit(train_generator, validation_data = validation_generator, steps_per_epoch = 100, epochs = 10)"
      ],
      "id": "532a913d"
    },
    {
      "cell_type": "code",
      "execution_count": 16,
      "metadata": {
        "id": "f22dcdd0"
      },
      "outputs": [],
      "source": [
        "from keras.models import load_model\n",
        "\n",
        "# Save model\n",
        "model.save(\"Trend_Ad_NoAd_VGG.h5\")"
      ],
      "id": "f22dcdd0"
    },
    {
      "cell_type": "code",
      "execution_count": null,
      "metadata": {
        "id": "F5PPbOcZ58fa"
      },
      "outputs": [],
      "source": [
        "!unzip \"drive/My Drive/Ktest.zip\""
      ],
      "id": "F5PPbOcZ58fa"
    },
    {
      "cell_type": "code",
      "execution_count": 18,
      "metadata": {
        "colab": {
          "base_uri": "https://localhost:8080/"
        },
        "id": "d19611ce",
        "outputId": "b0bcf008-a60c-4afe-f380-673545d6d188"
      },
      "outputs": [
        {
          "output_type": "stream",
          "name": "stdout",
          "text": [
            "Found 120 images belonging to 2 classes.\n",
            "6/6 [==============================] - 112s 18s/step - loss: 0.1906 - binary_accuracy: 0.9583 - true_positives: 56.0000 - true_negatives: 59.0000 - false_positives: 1.0000 - false_negatives: 4.0000 - precision: 0.9825 - recall: 0.9333\n",
            "evaluate binary_accuracy: 95.83%\n"
          ]
        }
      ],
      "source": [
        "from keras.models import load_model\n",
        "from PIL import Image\n",
        "\n",
        "Image.MAX_IMAGE_PIXELS = None\n",
        "\n",
        "# Flow test images in batches of 20 using test_datagen generator\n",
        "test_gen = ImageDataGenerator( rescale = 1.0/255. )\n",
        "test_generator = test_gen.flow_from_directory( test_dir,  batch_size = 20, class_mode = 'binary', target_size = (300, 300))\n",
        "saved_model = load_model(\"Trend_Ad_NoAd_VGG.h5\")\n",
        "\n",
        "# Evaluate on test data\n",
        "scores = saved_model.evaluate(test_generator)\n",
        "print(\"%s%s: %.2f%%\" % (\"evaluate \",saved_model.metrics_names[1], scores[1]*100))"
      ],
      "id": "d19611ce"
    },
    {
      "cell_type": "code",
      "execution_count": 19,
      "metadata": {
        "colab": {
          "base_uri": "https://localhost:8080/",
          "height": 492
        },
        "id": "jheKADKOw8IK",
        "outputId": "172ee5e0-9f89-49c5-e640-cd954c195e4d"
      },
      "outputs": [
        {
          "output_type": "stream",
          "name": "stdout",
          "text": [
            "        Metric              Value\n",
            "0       0.19059711694717407 loss\n",
            "1       0.9583333134651184  binary_accuracy\n",
            "2       56.0                true_positives\n",
            "3       59.0                true_negatives\n",
            "4       1.0                 false_positives\n",
            "5       4.0                 false_negatives\n",
            "6       0.9824561476707458  precision\n",
            "7       0.9333333373069763  recall\n"
          ]
        },
        {
          "output_type": "display_data",
          "data": {
            "text/plain": [
              "<Figure size 432x288 with 1 Axes>"
            ],
            "image/png": "[encoded data removed]"
          },
          "metadata": {}
        }
      ],
      "source": [
        "import numpy as np\n",
        "import seaborn as sns; sns.set_theme()\n",
        "\n",
        "fmt = '{:<8}{:<20}{}'\n",
        "\n",
        "print(fmt.format('', 'Metric', 'Value'))\n",
        "for i, (a, b) in enumerate(zip(scores, model.metrics_names)):\n",
        "    print(fmt.format(i, a, b))\n",
        "\n",
        "sns.set(font_scale=2)\n",
        "\n",
        "def plot_matrix(cm, classes, title):\n",
        "  ax = sns.heatmap(cm, cmap=\"Blues\", annot=True, xticklabels=classes, yticklabels=classes, cbar=False, fmt='g')\n",
        "  ax.set(title=title, xlabel=\"predicted label\", ylabel=\"true label\")\n",
        "    \n",
        "cm = np.array([[scores[2],scores[4]],[scores[5],scores[3]]])\n",
        "classes = ['Ad', 'nonAd']\n",
        "title = \"Trend VGG Confusion Matrix\"\n",
        "\n",
        "plot_matrix(cm, classes, title)"
      ],
      "id": "jheKADKOw8IK"
    }
  ],
  "metadata": {
    "accelerator": "GPU",
    "colab": {
      "provenance": []
    },
    "gpuClass": "standard",
    "kernelspec": {
      "display_name": "Python 3 (ipykernel)",
      "language": "python",
      "name": "python3"
    },
    "language_info": {
      "codemirror_mode": {
        "name": "ipython",
        "version": 3
      },
      "file_extension": ".py",
      "mimetype": "text/x-python",
      "name": "python",
      "nbconvert_exporter": "python",
      "pygments_lexer": "ipython3",
      "version": "3.10.7"
    }
  },
  "nbformat": 4,
  "nbformat_minor": 5
}